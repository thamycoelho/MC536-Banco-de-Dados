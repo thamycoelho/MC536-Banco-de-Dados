{
 "cells": [
  {
   "cell_type": "markdown",
   "metadata": {},
   "source": [
    "# Grupo Torresmo\n",
    "* Thamiris FLorindo Coelho - RA: 187506\n",
    "* Daniela Kemy Kagawa - RA:166293"
   ]
  },
  {
   "cell_type": "markdown",
   "metadata": {},
   "source": [
    "# Modelo conceitual"
   ]
  },
  {
   "cell_type": "markdown",
   "metadata": {},
   "source": [
    "<img src = \"UML_depois.jpg\">"
   ]
  },
  {
   "cell_type": "markdown",
   "metadata": {},
   "source": [
    "# Modelo lógico"
   ]
  },
  {
   "cell_type": "markdown",
   "metadata": {},
   "source": [
    "* Paciente(idPaciente, sexo, idade)\n",
    "* Resultado(idPaciente, nome, resultado)\n",
    "\n",
    "\t⤷ idPaciente é CHE para Paciente\n",
    "    \n",
    "\t⤷ nome é CHE para ExameSintoma\n",
    "* ExameSintoma(nome, tipo)\n",
    "* Diagnostico(idPaciente, diagnostico)\n",
    "\n",
    "\t⤷ idPaciente é CHE para Paciente"
   ]
  },
  {
   "cell_type": "markdown",
   "metadata": {},
   "source": [
    "# Códigos de criação de dados no Neo4j"
   ]
  },
  {
   "cell_type": "markdown",
   "metadata": {},
   "source": [
    "## Criando os nós ExameSintoma"
   ]
  },
  {
   "cell_type": "code",
   "execution_count": 4,
   "metadata": {},
   "outputs": [
    {
     "ename": "java.lang.RuntimeException",
     "evalue": " No datasource",
     "output_type": "error",
     "text": "java.lang.RuntimeException: No datasource",
     "traceback": [
      "\u001b[1;31mjava.lang.RuntimeException: No datasource\u001b[0;0m"
     ]
    }
   ],
   "source": [
    "LOAD CSV WITH HEADERS FROM 'https://raw.githubusercontent.com/thamycoelho/MC536-Banco-de-Dados/master/data/ExameSintoma.csv' AS line\n",
    "CREATE (:ExameSintoma {name: line.Name, type: line.type})"
   ]
  },
  {
   "cell_type": "markdown",
   "metadata": {},
   "source": [
    "## Criando os nós Pessoa"
   ]
  },
  {
   "cell_type": "code",
   "execution_count": 5,
   "metadata": {},
   "outputs": [
    {
     "ename": "java.lang.RuntimeException",
     "evalue": " No datasource",
     "output_type": "error",
     "text": "java.lang.RuntimeException: No datasource",
     "traceback": [
      "\u001b[1;31mjava.lang.RuntimeException: No datasource\u001b[0;0m"
     ]
    }
   ],
   "source": [
    "LOAD CSV WITH HEADERS FROM\n",
    "'https://raw.githubusercontent.com/thamycoelho/MC536-Banco-de-Dados/master/data/pessoa.csv' AS line\n",
    "CREATE (:Pessoa {personId: line.personid, age: line.age, sex:line.sex})"
   ]
  },
  {
   "cell_type": "markdown",
   "metadata": {},
   "source": [
    "## Criando as arestas Resultado"
   ]
  },
  {
   "cell_type": "code",
   "execution_count": 7,
   "metadata": {},
   "outputs": [
    {
     "ename": "java.lang.RuntimeException",
     "evalue": " No datasource",
     "output_type": "error",
     "text": "java.lang.RuntimeException: No datasource",
     "traceback": [
      "\u001b[1;31mjava.lang.RuntimeException: No datasource\u001b[0;0m"
     ]
    }
   ],
   "source": [
    "LOAD CSV WITH HEADERS FROM\n",
    "'https://raw.githubusercontent.com/thamycoelho/MC536-Banco-de-Dados/master/data/resultado.csv' AS line\n",
    "MATCH (e:ExameSintoma {name: line.exame})\n",
    "MATCH (p:Pessoa {personId: line.personid})\n",
    "CREATE (e)-[:Resultado {resultado: line.resultado}]->(p)"
   ]
  },
  {
   "cell_type": "code",
   "execution_count": null,
   "metadata": {},
   "outputs": [],
   "source": [
    "Por questão de tempo e também de dificuldade na criação dos grafos no Neo4j, não conseguimos terminar o grafo e realizar as cosu"
   ]
  }
 ],
 "metadata": {
  "kernelspec": {
   "display_name": "SQL",
   "language": "SQL",
   "name": "sql"
  },
  "language_info": {
   "codemirror_mode": "sql",
   "file_extension": ".sql",
   "mimetype": "",
   "name": "SQL",
   "nbconverter_exporter": "",
   "version": ""
  }
 },
 "nbformat": 4,
 "nbformat_minor": 2
}
