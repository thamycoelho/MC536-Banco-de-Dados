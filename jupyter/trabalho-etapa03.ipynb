{
 "cells": [
  {
   "cell_type": "markdown",
   "metadata": {},
   "source": [
    "# Grupo Torresmo\n",
    "* Thamiris FLorindo Coelho - RA: 187506\n",
    "* Daniela Kemy Kagawa - RA:166293"
   ]
  },
  {
   "cell_type": "markdown",
   "metadata": {},
   "source": [
    "# Modelo conceitual"
   ]
  },
  {
   "cell_type": "markdown",
   "metadata": {},
   "source": [
    "<img src = \"UML_depois.jpg\">"
   ]
  },
  {
   "cell_type": "markdown",
   "metadata": {},
   "source": [
    "# Modelo lógico"
   ]
  },
  {
   "cell_type": "markdown",
   "metadata": {},
   "source": [
    "* Paciente(idPaciente, sexo, idade)\n",
    "* Resultado(idPaciente, nome, resultado)\n",
    "\n",
    "\t⤷ idPaciente é CHE para Paciente\n",
    "    \n",
    "\t⤷ nome é CHE para ExameSintoma\n",
    "* ExameSintoma(nome, tipo)\n",
    "* Diagnostico(idPaciente, diagnostico)\n",
    "\n",
    "\t⤷ idPaciente é CHE para Paciente"
   ]
  },
  {
   "cell_type": "markdown",
   "metadata": {},
   "source": [
    "# Códigos de criação de dados no Neo4j"
   ]
  },
  {
   "cell_type": "markdown",
   "metadata": {},
   "source": [
    "## Criando os nós ExameSintoma"
   ]
  },
  {
   "cell_type": "markdown",
   "metadata": {},
   "source": [
    "LOAD CSV WITH HEADERS FROM 'https://raw.githubusercontent.com/thamycoelho/MC536-Banco-de-Dados/master/data/ExameSintoma.csv' AS line\n",
    "CREATE (:ExameSintoma {name: line.Name, type: line.type})"
   ]
  },
  {
   "cell_type": "markdown",
   "metadata": {},
   "source": [
    "## Criando os nós Pessoa"
   ]
  },
  {
   "cell_type": "raw",
   "metadata": {},
   "source": [
    "LOAD CSV WITH HEADERS FROM\n",
    "'https://raw.githubusercontent.com/thamycoelho/MC536-Banco-de-Dados/master/data/pessoa.csv' AS line\n",
    "CREATE (:Pessoa {personId: toInteger(line.personid), age: toInteger(line.age), sex: toInteger(line.sex)})\n"
   ]
  },
  {
   "cell_type": "markdown",
   "metadata": {},
   "source": [
    "## Criando as arestas Resultado"
   ]
  },
  {
   "cell_type": "raw",
   "metadata": {},
   "source": [
    "LOAD CSV WITH HEADERS FROM\n",
    "'https://raw.githubusercontent.com/thamycoelho/MC536-Banco-de-Dados/master/data/resultado.csv' AS line\n",
    "MATCH (e:ExameSintoma {name: line.exame})\n",
    "MATCH (p:Pessoa {personId: toInteger(line.personid)})\n",
    "CREATE (e)-[:Resultado {resultado: toFloat(line.resultado)}]->(p)\n"
   ]
  },
  {
   "cell_type": "markdown",
   "metadata": {},
   "source": [
    "## Criando os nós Diagnósticos"
   ]
  },
  {
   "cell_type": "raw",
   "metadata": {},
   "source": [
    "CREATE (:ValorDiag)"
   ]
  },
  {
   "cell_type": "markdown",
   "metadata": {},
   "source": [
    "## Criando asarestas Diagnóstico\n"
   ]
  },
  {
   "cell_type": "raw",
   "metadata": {},
   "source": [
    "LOAD CSV WITH HEADERS FROM 'https://raw.githubusercontent.com/thamycoelho/MC536-Banco-de-Dados/master/data/diagnostico.csv' AS line\n",
    "MATCH (d:ValorDiag)\n",
    "MATCH (p:Pessoa {personId: toInteger(line.idpessoa)})\n",
    "CREATE (p)-[:Diagnostico {valor: toInteger(line.diag)}]->(d)\n"
   ]
  },
  {
   "cell_type": "markdown",
   "metadata": {},
   "source": [
    "Análise dos dados \n",
    "===\n",
    "\n",
    "---"
   ]
  },
  {
   "cell_type": "markdown",
   "metadata": {},
   "source": [
    "## Pessoas com 40 anos e seus respectivos diagnósticos\n"
   ]
  },
  {
   "cell_type": "raw",
   "metadata": {},
   "source": [
    "MATCH path=(p:Pessoa)-[:Diagnostico {valor: 1}]->(:ValorDiag)\n",
    "where p.age >= 65\n",
    "RETURN path\n"
   ]
  },
  {
   "cell_type": "markdown",
   "metadata": {},
   "source": [
    "## Pessoas com o sintoma dor no peito igual a 4 que possuem doença cardíaca"
   ]
  },
  {
   "cell_type": "raw",
   "metadata": {},
   "source": [
    "MATCH path=(:ExameSintoma {name: 'chest pain'})-[:Resultado {resultado: 4}]->(:Pessoa)-[:Diagnostico {valor : 1}]->(:ValorDiag)\n",
    "RETURN path\n",
    "LIMIT 30"
   ]
  },
  {
   "cell_type": "markdown",
   "metadata": {},
   "source": [
    "## Idade média de mulheres e homens que possuem doença cardíaca"
   ]
  },
  {
   "cell_type": "raw",
   "metadata": {},
   "source": [
    "MATCH (n:Pessoa {sex: 0})-[:Diagnostico {valor : 1}]->(:ValorDiag)\n",
    "RETURN avg(n.age)\n",
    "\n",
    "MATCH (n:Pessoa {sex: 1})-[:Diagnostico {valor : 1}]->(:ValorDiag)\n",
    "RETURN avg(n.age)\n"
   ]
  },
  {
   "cell_type": "markdown",
   "metadata": {},
   "source": [
    "## Pessoas que possuem doença cardíaca e possuem colesterol acima de 350mg/dl"
   ]
  },
  {
   "cell_type": "raw",
   "metadata": {},
   "source": [
    "MATCH path=(:ExameSintoma {name: 'serum cholesterol'})-[r:Resultado]->(:Pessoa)-[:Diagnostico]->(:ValorDiag)\n",
    "WHERE 350 <= r.resultado\n",
    "RETURN path\n",
    "\n",
    "MATCH path=(:ExameSintoma {name: 'serum cholesterol'})-[r:Resultado]->(:Pessoa)-[:Diagnostico {valor: 1}]->(:ValorDiag)\n",
    "WHERE 350 <= r.resultado\n",
    "RETURN path"
   ]
  },
  {
   "cell_type": "markdown",
   "metadata": {},
   "source": [
    "## Pessoas que tem resultados altos para eletrocardiograma e alto nível depressão do segmento ST induzido por exercicio\n"
   ]
  },
  {
   "cell_type": "raw",
   "metadata": {},
   "source": [
    "MATCH (:ExameSintoma {name: 'eltrocardiography'})-[r:Resultado]->(b)\n",
    "where r.resultado = 2\n",
    "return b.personId\n",
    "union\n",
    "match (:ExameSintoma {name: 'ST depression induced by exercice'})-[r:Resultado]->(b)\n",
    "where r.resultado >= 3\n",
    "return b.personId\n"
   ]
  }
 ],
 "metadata": {
  "kernelspec": {
   "display_name": "SQL",
   "language": "SQL",
   "name": "sql"
  },
  "language_info": {
   "codemirror_mode": "sql",
   "file_extension": ".sql",
   "mimetype": "",
   "name": "SQL",
   "nbconverter_exporter": "",
   "version": ""
  },
  "toc": {
   "base_numbering": 1,
   "nav_menu": {},
   "number_sections": false,
   "sideBar": false,
   "skip_h1_title": false,
   "title_cell": "Table of Contents",
   "title_sidebar": "Contents",
   "toc_cell": false,
   "toc_position": {},
   "toc_section_display": false,
   "toc_window_display": false
  }
 },
 "nbformat": 4,
 "nbformat_minor": 2
}
