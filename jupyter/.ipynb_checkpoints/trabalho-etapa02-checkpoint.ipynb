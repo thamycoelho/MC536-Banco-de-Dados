{
 "cells": [
  {
   "cell_type": "code",
   "execution_count": 1,
   "metadata": {},
   "outputs": [],
   "source": [
    "%defaultDatasource jdbc:h2:mem:db"
   ]
  },
  {
   "cell_type": "markdown",
   "metadata": {},
   "source": [
    "Modelo Conceitual \n",
    "\n",
    "---"
   ]
  },
  {
   "cell_type": "markdown",
   "metadata": {},
   "source": [
    "<img src = \"UML_depois.jpg\">"
   ]
  },
  {
   "cell_type": "markdown",
   "metadata": {},
   "source": [
    "Modelo Logico\n",
    "\n",
    "---"
   ]
  },
  {
   "cell_type": "markdown",
   "metadata": {},
   "source": [
    "* Paciente(_idPaciente_, sexo, idade, diagnostico)\n",
    "\n",
    "* ExameSintoma(_nome_, _tipo_)\n",
    "\n",
    "* Resultado (_idPaciente_, _nome_, resultado)\n",
    "\n",
    "    ⤷ idPaciente é CHE para Paciente\n",
    "    \n",
    "    ⤷ nome é CHE para ExameSintoma\n"
   ]
  },
  {
   "cell_type": "code",
   "execution_count": 2,
   "metadata": {},
   "outputs": [],
   "source": [
    "CREATE TABLE Pessoa (\n",
    "    personid INT NOT NULL,\n",
    "    idade INT NOT NULL, \n",
    "    sexo INT NOT NULL,\n",
    "    PRIMARY KEY(personid)\n",
    ") AS SELECT\n",
    "    personid,\n",
    "    age,\n",
    "    sex\n",
    "FROM CSVREAD('../data/pessoa.csv');"
   ]
  },
  {
   "cell_type": "code",
   "execution_count": 3,
   "metadata": {},
   "outputs": [],
   "source": [
    "CREATE TABLE Diagnostico (\n",
    "    personid INT NOT NULL,\n",
    "    valor INT NOT NULL,\n",
    "    FOREIGN KEY(personid)\n",
    "        REFERENCES Pessoa(personid)\n",
    "        ON DELETE NO ACTION\n",
    "        ON UPDATE NO ACTION,\n",
    ") AS SELECT\n",
    "    idpessoa,\n",
    "    diag\n",
    "FROM CSVREAD('../data/diagnostico.csv');"
   ]
  },
  {
   "cell_type": "code",
   "execution_count": 4,
   "metadata": {},
   "outputs": [],
   "source": [
    "CREATE VIEW Paciente AS\n",
    "SELECT P.personid, P.idade, P.sexo, D.valor AS Diagnostico\n",
    "FROM Diagnostico D, Pessoa P\n",
    "WHERE P.personid = D.personid;"
   ]
  },
  {
   "cell_type": "code",
   "execution_count": null,
   "metadata": {},
   "outputs": [],
   "source": []
  },
  {
   "cell_type": "code",
   "execution_count": 5,
   "metadata": {},
   "outputs": [],
   "source": [
    "CREATE TABLE ExameSintoma(\n",
    "    nome VARCHAR(100) NOT NULL, \n",
    "    tipo VARCHAR(50) NOT NULL,\n",
    "    PRIMARY KEY(nome)\n",
    ")AS SELECT \n",
    "    Name,\n",
    "    type\n",
    "FROM CSVREAD('../data/ExameSintoma.csv');"
   ]
  },
  {
   "cell_type": "code",
   "execution_count": 6,
   "metadata": {},
   "outputs": [],
   "source": [
    "CREATE TABLE Resultado(\n",
    "    nomeExame VARCHAR(100) NOT NULL, \n",
    "    idPaciente INT NOT NULL,\n",
    "    resultado FLOAT,\n",
    "    PRIMARY KEY(idPaciente, nomeExame),\n",
    "    FOREIGN KEY(idPaciente)\n",
    "    REFERENCES Pessoa(personid)\n",
    "      ON DELETE NO ACTION\n",
    "      ON UPDATE NO ACTION,\n",
    "    FOREIGN KEY(nomeExame)\n",
    "    REFERENCES ExameSintoma(nome)\n",
    "      ON DELETE NO ACTION\n",
    "      ON UPDATE NO ACTION,\n",
    ")AS SELECT \n",
    "    exame,\n",
    "    personid,\n",
    "    resultado\n",
    "FROM CSVREAD('../data/resultado.csv');"
   ]
  },
  {
   "cell_type": "code",
   "execution_count": 7,
   "metadata": {},
   "outputs": [
    {
     "data": {
      "application/vnd.jupyter.widget-view+json": {
       "model_id": "be6e456e-efc3-4d86-849b-64b5c3f08143",
       "version_major": 2,
       "version_minor": 0
      },
      "method": "display_data"
     },
     "metadata": {},
     "output_type": "display_data"
    },
    {
     "data": {
      "application/vnd.jupyter.widget-view+json": {
       "model_id": "4b86f650-3a06-4303-937c-8d7ba52a835f",
       "version_major": 2,
       "version_minor": 0
      },
      "method": "display_data"
     },
     "metadata": {},
     "output_type": "display_data"
    },
    {
     "data": {
      "application/vnd.jupyter.widget-view+json": {
       "model_id": "798b57ff-ee5b-4661-8f6b-424b1d61a775",
       "version_major": 2,
       "version_minor": 0
      },
      "method": "display_data"
     },
     "metadata": {},
     "output_type": "display_data"
    }
   ],
   "source": [
    "SELECT * FROM Paciente;\n",
    "SELECT * FROM Resultado;\n",
    "SELECT * FROM ExameSintoma;\n"
   ]
  },
  {
   "cell_type": "markdown",
   "metadata": {},
   "source": [
    "Análise dos dados \n",
    "===\n",
    "\n",
    "---"
   ]
  },
  {
   "cell_type": "markdown",
   "metadata": {},
   "source": [
    "Analisando a relação da quantidade de pessoas problemas cardiacos de acordo com sua idade\n",
    "---"
   ]
  },
  {
   "cell_type": "code",
   "execution_count": 8,
   "metadata": {},
   "outputs": [
    {
     "data": {
      "application/vnd.jupyter.widget-view+json": {
       "model_id": "4eff5aaa-5fc8-4bf9-b403-b1a506e544cc",
       "version_major": 2,
       "version_minor": 0
      },
      "method": "display_data"
     },
     "metadata": {},
     "output_type": "display_data"
    }
   ],
   "source": [
    "SELECT idade, diagnostico, COUNT(*) \n",
    "FROM Paciente \n",
    "GROUP BY idade, diagnostico\n",
    "ORDER BY idade;"
   ]
  },
  {
   "cell_type": "markdown",
   "metadata": {},
   "source": [
    "Analisando o sexo em que a doença aparece com maior frequencia\n",
    "---"
   ]
  },
  {
   "cell_type": "code",
   "execution_count": 9,
   "metadata": {},
   "outputs": [
    {
     "data": {
      "application/vnd.jupyter.widget-view+json": {
       "model_id": "68bddd4a-13ef-44af-abd4-14906745fe98",
       "version_major": 2,
       "version_minor": 0
      },
      "method": "display_data"
     },
     "metadata": {},
     "output_type": "display_data"
    }
   ],
   "source": [
    "SELECT sexo, diagnostico, COUNT(*) total\n",
    "FROM Paciente \n",
    "WHERE diagnostico = 1\n",
    "GROUP BY sexo, diagnostico;"
   ]
  },
  {
   "cell_type": "markdown",
   "metadata": {},
   "source": [
    "Quantidade de pessoas diagnosticadas que sentiram fortes dores no peito (intensidade = 4)\n",
    "---"
   ]
  },
  {
   "cell_type": "code",
   "execution_count": 10,
   "metadata": {},
   "outputs": [
    {
     "data": {
      "text/plain": [
       "83"
      ]
     },
     "execution_count": 10,
     "metadata": {},
     "output_type": "execute_result"
    }
   ],
   "source": [
    "SELECT COUNT(*)\n",
    "FROM Resultado S, Paciente P\n",
    "WHERE S.idpaciente = P.personid AND P.diagnostico = 1 AND S.nomeExame = 'chest pain' AND S.resultado = 4;\n"
   ]
  },
  {
   "cell_type": "markdown",
   "metadata": {},
   "source": [
    "Idade das Pessoas que foram diagnosticadas e sentiram dor no peito após exercicios\n",
    "---"
   ]
  },
  {
   "cell_type": "code",
   "execution_count": 11,
   "metadata": {},
   "outputs": [
    {
     "data": {
      "application/vnd.jupyter.widget-view+json": {
       "model_id": "294edcd7-c944-439f-bb78-1c82c03520f7",
       "version_major": 2,
       "version_minor": 0
      },
      "method": "display_data"
     },
     "metadata": {},
     "output_type": "display_data"
    }
   ],
   "source": [
    "SELECT idade \n",
    "FROM Paciente P, Resultado E\n",
    "WHERE E.idPaciente = P.personid AND E.nomeExame = 'exercice induce angina' AND E.resultado = 1;"
   ]
  },
  {
   "cell_type": "markdown",
   "metadata": {},
   "source": [
    "media de colesterol alto de pessoas que possuem uma doença cardiada\n",
    "---\n"
   ]
  },
  {
   "cell_type": "code",
   "execution_count": 12,
   "metadata": {},
   "outputs": [
    {
     "data": {
      "text/plain": [
       "269.18811881188117"
      ]
     },
     "execution_count": 12,
     "metadata": {},
     "output_type": "execute_result"
    }
   ],
   "source": [
    "SELECT AVG(E.resultado) \n",
    "FROM Resultado E, Paciente P \n",
    "WHERE P.personid = E.idPaciente AND E.nomeExame = 'serum cholesterol' AND P.diagnostico = 1;\n"
   ]
  },
  {
   "cell_type": "code",
   "execution_count": null,
   "metadata": {},
   "outputs": [],
   "source": []
  }
 ],
 "metadata": {
  "kernelspec": {
   "display_name": "SQL",
   "language": "SQL",
   "name": "sql"
  },
  "language_info": {
   "codemirror_mode": "sql",
   "file_extension": ".sql",
   "mimetype": "",
   "name": "SQL",
   "nbconverter_exporter": "",
   "version": ""
  },
  "toc": {
   "base_numbering": 1,
   "nav_menu": {},
   "number_sections": false,
   "sideBar": false,
   "skip_h1_title": false,
   "title_cell": "Table of Contents",
   "title_sidebar": "Contents",
   "toc_cell": false,
   "toc_position": {},
   "toc_section_display": false,
   "toc_window_display": false
  }
 },
 "nbformat": 4,
 "nbformat_minor": 2
}
