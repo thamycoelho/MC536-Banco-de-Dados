{
 "cells": [
  {
   "cell_type": "markdown",
   "metadata": {},
   "source": [
    "## Análise de Dados XML\n",
    "\n",
    "---"
   ]
  },
  {
   "cell_type": "markdown",
   "metadata": {},
   "source": [
    "Convertemos o dado csv para um dado xml e então utilizamos o http://try.zorba.io/ para realizar consultas sobre o dado xml"
   ]
  },
  {
   "cell_type": "markdown",
   "metadata": {},
   "source": [
    "## Contagem de mulheres que tem colesterol acima de 240 e tem doença cardíaca (count)\n"
   ]
  },
  {
   "cell_type": "raw",
   "metadata": {},
   "source": [
    "let $analysisdata := doc('mydoc.xml')\n",
    "for $i in ($analysisdata)\n",
    "return count($i//person[sex=0][chol>240][num=1])"
   ]
  },
  {
   "cell_type": "markdown",
   "metadata": {},
   "source": [
    "## Idade de todas as mulheres que tem doença cardíaca (for + XML no resultado + extração do conteúdo literal com data())"
   ]
  },
  {
   "cell_type": "raw",
   "metadata": {},
   "source": [
    "let $analysisdata := doc('mydoc.xml')\n",
    "for $i in ($analysisdata//person)\n",
    "where $i[sex=0][num=1]\n",
    "return <idade>{data($i/age)}</idade>\n"
   ]
  },
  {
   "cell_type": "markdown",
   "metadata": {},
   "source": [
    "## Sexo das pessoas que possuem o sintoma dor no peito (chest pain) acima de 2 (sintoma gradado de 1 a 4) (uso de XML dentro de XML no resultado + for + extração de conteúdo literal com data())\n"
   ]
  },
  {
   "cell_type": "raw",
   "metadata": {},
   "source": [
    "let $analysisdata := doc('mydoc.xml')\n",
    "return <dornopeito> {\n",
    "for $i in ($analysisdata//person)\n",
    "where $i[cp>2]\n",
    "return <sexo>{data($i/sex)}</sexo>\n",
    "} </dornopeito>"
   ]
  },
  {
   "cell_type": "markdown",
   "metadata": {},
   "source": [
    "## Idade das pessoas que possuem o ritmo de batimento cardíaco máximo superior a 120, de forma ordenada (order by + for + XML no resultado + extração de conteúdo literal com data())"
   ]
  },
  {
   "cell_type": "raw",
   "metadata": {},
   "source": [
    "let $analysisdata := doc('mydoc.xml')\n",
    "for $i in ($analysisdata//person)\n",
    "where $i[thalach>120]\n",
    "order by $i/age\n",
    "return <idade>{data($i/age)}</idade>"
   ]
  },
  {
   "cell_type": "markdown",
   "metadata": {},
   "source": [
    "## Colesterol dos pacientes, ordenado a partir da idade (order by + if/else + XML no resultado + extração de conteúdo literal com data())"
   ]
  },
  {
   "cell_type": "raw",
   "metadata": {},
   "source": [
    "let $analysisdata := doc('mydoc.xml')\n",
    "for $i in ($analysisdata//person)\n",
    "order by $i/age\n",
    "return if ($i[chol>=200])\n",
    "  then <maior>{data($i/chol)}</maior>\n",
    "  else <menor>{data($i/chol)}</menor>\n"
   ]
  },
  {
   "cell_type": "markdown",
   "metadata": {},
   "source": [
    "## Análise de Dados RDF usando SPARQL\n",
    "\n",
    "---"
   ]
  },
  {
   "cell_type": "markdown",
   "metadata": {},
   "source": [
    "Como seria muito complicado criar o nosso próprio endpoint com os dados que escolhemos para analisar, nessa etapa analisamos dados do MeSH (https://www.nlm.nih.gov/), para escolhermos dados no nosso tema analisamos a arvore de Doenças Cardiovasculares"
   ]
  },
  {
   "cell_type": "markdown",
   "metadata": {},
   "source": [
    "Modelo Conseitual\n",
    "\n",
    "---"
   ]
  },
  {
   "cell_type": "markdown",
   "metadata": {},
   "source": [
    "<img src=mesh.png>"
   ]
  },
  {
   "cell_type": "markdown",
   "metadata": {},
   "source": [
    "Análise dos dados \n",
    "===\n",
    "\n",
    "---"
   ]
  },
  {
   "cell_type": "code",
   "execution_count": null,
   "metadata": {},
   "outputs": [],
   "source": [
    "%endpoint http://id.nlm.nih.gov/mesh/sparql\n",
    "%display table\n",
    "%show all"
   ]
  },
  {
   "cell_type": "markdown",
   "metadata": {},
   "source": [
    "# Todos os filhos de Doenças Cardiovasculares (MeSH Descriptor D002318)"
   ]
  },
  {
   "cell_type": "code",
   "execution_count": null,
   "metadata": {},
   "outputs": [],
   "source": [
    "PREFIX rdf: <http://www.w3.org/1999/02/22-rdf-syntax-ns#>\n",
    "PREFIX rdfs: <http://www.w3.org/2000/01/rdf-schema#>\n",
    "PREFIX xsd: <http://www.w3.org/2001/XMLSchema#>\n",
    "PREFIX owl: <http://www.w3.org/2002/07/owl#>\n",
    "PREFIX meshv: <http://id.nlm.nih.gov/mesh/vocab#>\n",
    "PREFIX mesh: <http://id.nlm.nih.gov/mesh/>\n",
    "PREFIX mesh2015: <http://id.nlm.nih.gov/mesh/2015/>\n",
    "PREFIX mesh2016: <http://id.nlm.nih.gov/mesh/2016/>\n",
    "PREFIX mesh2017: <http://id.nlm.nih.gov/mesh/2017/>\n",
    "\n",
    "\n",
    "SELECT DISTINCT ?descriptor ?label\n",
    "FROM <http://id.nlm.nih.gov/mesh>\n",
    "\n",
    "WHERE {\n",
    "mesh:D002318 meshv:treeNumber ?treeNum .\n",
    "?childTreeNum meshv:parentTreeNumber+ ?treeNum .\n",
    "?descriptor meshv:treeNumber ?childTreeNum .\n",
    "?descriptor rdfs:label ?label .\n",
    "}\n",
    "\n",
    "ORDER BY ?descriptor\n",
    "LIMIT 20"
   ]
  },
  {
   "cell_type": "markdown",
   "metadata": {},
   "source": [
    "# Todos os ancestrais de Infarto do Miocárdio (MeSH Descriptor D009203)"
   ]
  },
  {
   "cell_type": "code",
   "execution_count": null,
   "metadata": {},
   "outputs": [],
   "source": [
    "PREFIX rdf: <http://www.w3.org/1999/02/22-rdf-syntax-ns#>\n",
    "PREFIX rdfs: <http://www.w3.org/2000/01/rdf-schema#>\n",
    "PREFIX xsd: <http://www.w3.org/2001/XMLSchema#>\n",
    "PREFIX owl: <http://www.w3.org/2002/07/owl#>\n",
    "PREFIX meshv: <http://id.nlm.nih.gov/mesh/vocab#>\n",
    "PREFIX mesh: <http://id.nlm.nih.gov/mesh/>\n",
    "PREFIX mesh2015: <http://id.nlm.nih.gov/mesh/2015/>\n",
    "PREFIX mesh2016: <http://id.nlm.nih.gov/mesh/2016/>\n",
    "PREFIX mesh2017: <http://id.nlm.nih.gov/mesh/2017/>\n",
    "\n",
    "SELECT ?ancestor ?label\n",
    "FROM <http://id.nlm.nih.gov/mesh>\n",
    "\n",
    "WHERE {\n",
    "mesh:D009203 meshv:treeNumber ?treeNum .\n",
    "?treeNum meshv:parentTreeNumber+ ?ancestorTreeNum .\n",
    "?ancestor meshv:treeNumber ?ancestorTreeNum .\n",
    "?ancestor rdfs:label ?label\n",
    "}\n",
    "\n",
    "ORDER BY ?treeNum ?ancestorTreeNum"
   ]
  },
  {
   "cell_type": "markdown",
   "metadata": {},
   "source": [
    "# Doenças que são consideradas Doenças Cardiovasculares (MeSH Descriptor D002318)\n"
   ]
  },
  {
   "cell_type": "code",
   "execution_count": null,
   "metadata": {},
   "outputs": [],
   "source": [
    "PREFIX rdf: <http://www.w3.org/1999/02/22-rdf-syntax-ns#>\n",
    "PREFIX rdfs: <http://www.w3.org/2000/01/rdf-schema#>\n",
    "PREFIX xsd: <http://www.w3.org/2001/XMLSchema#>\n",
    "PREFIX owl: <http://www.w3.org/2002/07/owl#>\n",
    "PREFIX meshv: <http://id.nlm.nih.gov/mesh/vocab#>\n",
    "PREFIX mesh: <http://id.nlm.nih.gov/mesh/>\n",
    "PREFIX mesh2015: <http://id.nlm.nih.gov/mesh/2015/>\n",
    "PREFIX mesh2016: <http://id.nlm.nih.gov/mesh/2016/>\n",
    "PREFIX mesh2017: <http://id.nlm.nih.gov/mesh/2017/>\n",
    "\n",
    "SELECT DISTINCT ?descriptor ?label \n",
    "FROM <http://id.nlm.nih.gov/mesh>\n",
    "\n",
    "WHERE {\n",
    "    ?descriptor rdfs:label ?label .\n",
    "    ?descriptor meshv:broaderDescriptor mesh:D002318\n",
    "}\n",
    "\n",
    "ORDER BY ?label"
   ]
  }
 ],
 "metadata": {
  "kernelspec": {
   "display_name": "Python 3",
   "language": "python",
   "name": "python3"
  },
  "language_info": {
   "codemirror_mode": {
    "name": "ipython",
    "version": 3
   },
   "file_extension": ".py",
   "mimetype": "text/x-python",
   "name": "python",
   "nbconvert_exporter": "python",
   "pygments_lexer": "ipython3",
   "version": "3.6.6"
  },
  "toc": {
   "base_numbering": 1,
   "nav_menu": {},
   "number_sections": false,
   "sideBar": false,
   "skip_h1_title": false,
   "title_cell": "Table of Contents",
   "title_sidebar": "Contents",
   "toc_cell": false,
   "toc_position": {},
   "toc_section_display": false,
   "toc_window_display": false
  }
 },
 "nbformat": 4,
 "nbformat_minor": 2
}
